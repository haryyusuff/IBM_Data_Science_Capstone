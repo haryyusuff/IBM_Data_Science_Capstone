{
 "cells": [
  {
   "cell_type": "markdown",
   "metadata": {},
   "source": [
    "# SpaceX Falcon 9 First Stage Landing Prediction\n",
    "\n",
    "## Lab 2: EDA & SQL\n",
    "\n",
    "### Objective\n",
    "* Understand the Spacex DataSet\n",
    "* Load the dataset into the corresponding table in a duck DB\n",
    "* Execute SQL queries to answer assignment questions"
   ]
  },
  {
   "cell_type": "code",
   "execution_count": 1,
   "metadata": {},
   "outputs": [],
   "source": [
    "import pandas as pd\n",
    "import numpy as np\n",
    "import duckdb"
   ]
  },
  {
   "cell_type": "code",
   "execution_count": 2,
   "metadata": {},
   "outputs": [],
   "source": [
    "df = pd.read_csv(\"https://cf-courses-data.s3.us.cloud-object-storage.appdomain.cloud/IBM-DS0321EN-SkillsNetwork/labs/module_2/data/Spacex.csv\")"
   ]
  },
  {
   "cell_type": "code",
   "execution_count": 3,
   "metadata": {},
   "outputs": [
    {
     "data": {
      "text/plain": [
       "Landing_Outcome\n",
       "Success                   38\n",
       "No attempt                21\n",
       "Success (drone ship)      14\n",
       "Success (ground pad)       9\n",
       "Controlled (ocean)         5\n",
       "Failure (drone ship)       5\n",
       "Failure                    3\n",
       "Failure (parachute)        2\n",
       "Uncontrolled (ocean)       2\n",
       "Precluded (drone ship)     1\n",
       "No attempt                 1\n",
       "Name: count, dtype: int64"
      ]
     },
     "execution_count": 3,
     "metadata": {},
     "output_type": "execute_result"
    }
   ],
   "source": [
    "df[\"Landing_Outcome\"].value_counts()"
   ]
  },
  {
   "cell_type": "code",
   "execution_count": 4,
   "metadata": {},
   "outputs": [
    {
     "data": {
      "text/plain": [
       "┌────────────┬────────────┬─────────────────┬───┬──────────────────────┬─────────────────┬──────────────────────┐\n",
       "│    Date    │ Time (UTC) │ Booster_Version │ … │       Customer       │ Mission_Outcome │   Landing_Outcome    │\n",
       "│  varchar   │  varchar   │     varchar     │   │       varchar        │     varchar     │       varchar        │\n",
       "├────────────┼────────────┼─────────────────┼───┼──────────────────────┼─────────────────┼──────────────────────┤\n",
       "│ 2010-06-04 │ 18:45:00   │ F9 v1.0  B0003  │ … │ SpaceX               │ Success         │ Failure (parachute)  │\n",
       "│ 2010-12-08 │ 15:43:00   │ F9 v1.0  B0004  │ … │ NASA (COTS) NRO      │ Success         │ Failure (parachute)  │\n",
       "│ 2012-05-22 │ 7:44:00    │ F9 v1.0  B0005  │ … │ NASA (COTS)          │ Success         │ No attempt           │\n",
       "│ 2012-10-08 │ 0:35:00    │ F9 v1.0  B0006  │ … │ NASA (CRS)           │ Success         │ No attempt           │\n",
       "│ 2013-03-01 │ 15:10:00   │ F9 v1.0  B0007  │ … │ NASA (CRS)           │ Success         │ No attempt           │\n",
       "│ 2013-09-29 │ 16:00:00   │ F9 v1.1  B1003  │ … │ MDA                  │ Success         │ Uncontrolled (ocean) │\n",
       "│ 2013-12-03 │ 22:41:00   │ F9 v1.1         │ … │ SES                  │ Success         │ No attempt           │\n",
       "│ 2014-01-06 │ 22:06:00   │ F9 v1.1         │ … │ Thaicom              │ Success         │ No attempt           │\n",
       "│ 2014-04-18 │ 19:25:00   │ F9 v1.1         │ … │ NASA (CRS)           │ Success         │ Controlled (ocean)   │\n",
       "│ 2014-07-14 │ 15:15:00   │ F9 v1.1         │ … │ Orbcomm              │ Success         │ Controlled (ocean)   │\n",
       "│     ·      │    ·       │    ·            │ · │    ·                 │    ·            │    ·                 │\n",
       "│     ·      │    ·       │    ·            │ · │    ·                 │    ·            │    ·                 │\n",
       "│     ·      │    ·       │    ·            │ · │    ·                 │    ·            │    ·                 │\n",
       "│ 2020-08-30 │ 23:18:00   │ F9 B5 B1059.4   │ … │ CONAE, PlanetIQ, S…  │ Success         │ Success              │\n",
       "│ 2020-09-03 │ 12:46:14   │ F9 B5 B1060.2   │ … │ SpaceX               │ Success         │ Success              │\n",
       "│ 2020-10-06 │ 11:29:34   │ F9 B5 B1058.3   │ … │ SpaceX               │ Success         │ Success              │\n",
       "│ 2020-10-18 │ 12:25:57   │ F9 B5 B1051.6   │ … │ SpaceX               │ Success         │ Success              │\n",
       "│ 2020-10-24 │ 15:31:34   │ F9 B5 B1060.3   │ … │ SpaceX               │ Success         │ Success              │\n",
       "│ 2020-11-05 │ 23:24:23   │ F9 B5B1062.1    │ … │ USSF                 │ Success         │ Success              │\n",
       "│ 2020-11-16 │ 0:27:00    │ F9 B5B1061.1    │ … │ NASA (CCP)           │ Success         │ Success              │\n",
       "│ 2020-11-21 │ 17:17:08   │ F9 B5B1063.1    │ … │ NASA / NOAA / ESA …  │ Success         │ Success              │\n",
       "│ 2020-11-25 │ 2:13:00    │ F9 B5 B1049.7   │ … │ SpaceX               │ Success         │ Success              │\n",
       "│ 2020-12-06 │ 16:17:08   │ F9 B5 B1058.4   │ … │ NASA (CRS)           │ Success         │ Success              │\n",
       "├────────────┴────────────┴─────────────────┴───┴──────────────────────┴─────────────────┴──────────────────────┤\n",
       "│ 101 rows (20 shown)                                                                      10 columns (6 shown) │\n",
       "└───────────────────────────────────────────────────────────────────────────────────────────────────────────────┘"
      ]
     },
     "execution_count": 4,
     "metadata": {},
     "output_type": "execute_result"
    }
   ],
   "source": [
    "duckdb.sql(\"\"\"\n",
    "           SELECT *\n",
    "           FROM df\n",
    "\"\"\")"
   ]
  },
  {
   "cell_type": "code",
   "execution_count": 5,
   "metadata": {},
   "outputs": [
    {
     "data": {
      "text/plain": [
       "['Date',\n",
       " 'Time (UTC)',\n",
       " 'Booster_Version',\n",
       " 'Launch_Site',\n",
       " 'Payload',\n",
       " 'PAYLOAD_MASS__KG_',\n",
       " 'Orbit',\n",
       " 'Customer',\n",
       " 'Mission_Outcome',\n",
       " 'Landing_Outcome']"
      ]
     },
     "execution_count": 5,
     "metadata": {},
     "output_type": "execute_result"
    }
   ],
   "source": [
    "df.columns.to_list()"
   ]
  },
  {
   "cell_type": "markdown",
   "metadata": {},
   "source": [
    "#### Task 1:\n",
    "Display the names of the unique launch sites in the space mission"
   ]
  },
  {
   "cell_type": "code",
   "execution_count": 6,
   "metadata": {},
   "outputs": [
    {
     "data": {
      "text/plain": [
       "┌──────────────┐\n",
       "│ Launch_Site  │\n",
       "│   varchar    │\n",
       "├──────────────┤\n",
       "│ VAFB SLC-4E  │\n",
       "│ KSC LC-39A   │\n",
       "│ CCAFS LC-40  │\n",
       "│ CCAFS SLC-40 │\n",
       "└──────────────┘"
      ]
     },
     "execution_count": 6,
     "metadata": {},
     "output_type": "execute_result"
    }
   ],
   "source": [
    "duckdb.sql(\"\"\"\n",
    "           SELECT DISTINCT Launch_Site\n",
    "           FROM df\n",
    "\"\"\")"
   ]
  },
  {
   "cell_type": "markdown",
   "metadata": {},
   "source": [
    "#### Task 2\n",
    "Display 5 records where launch sites begin with the string \"CCA\""
   ]
  },
  {
   "cell_type": "code",
   "execution_count": 7,
   "metadata": {},
   "outputs": [
    {
     "data": {
      "text/plain": [
       "┌────────────┬────────────┬─────────────────┬───┬─────────────────┬─────────────────┬─────────────────────┐\n",
       "│    Date    │ Time (UTC) │ Booster_Version │ … │    Customer     │ Mission_Outcome │   Landing_Outcome   │\n",
       "│  varchar   │  varchar   │     varchar     │   │     varchar     │     varchar     │       varchar       │\n",
       "├────────────┼────────────┼─────────────────┼───┼─────────────────┼─────────────────┼─────────────────────┤\n",
       "│ 2010-06-04 │ 18:45:00   │ F9 v1.0  B0003  │ … │ SpaceX          │ Success         │ Failure (parachute) │\n",
       "│ 2010-12-08 │ 15:43:00   │ F9 v1.0  B0004  │ … │ NASA (COTS) NRO │ Success         │ Failure (parachute) │\n",
       "│ 2012-05-22 │ 7:44:00    │ F9 v1.0  B0005  │ … │ NASA (COTS)     │ Success         │ No attempt          │\n",
       "│ 2012-10-08 │ 0:35:00    │ F9 v1.0  B0006  │ … │ NASA (CRS)      │ Success         │ No attempt          │\n",
       "│ 2013-03-01 │ 15:10:00   │ F9 v1.0  B0007  │ … │ NASA (CRS)      │ Success         │ No attempt          │\n",
       "├────────────┴────────────┴─────────────────┴───┴─────────────────┴─────────────────┴─────────────────────┤\n",
       "│ 5 rows                                                                             10 columns (6 shown) │\n",
       "└─────────────────────────────────────────────────────────────────────────────────────────────────────────┘"
      ]
     },
     "execution_count": 7,
     "metadata": {},
     "output_type": "execute_result"
    }
   ],
   "source": [
    "duckdb.sql(\"\"\"\n",
    "           SELECT *\n",
    "           FROM df\n",
    "           WHERE Launch_Site LIKE 'CCA%'\n",
    "           LIMIT 5\n",
    "\"\"\")"
   ]
  },
  {
   "cell_type": "markdown",
   "metadata": {},
   "source": [
    "#### Task 3\n",
    "Diplay the total payload mass carried by boosters launched by NASA (CRS)"
   ]
  },
  {
   "cell_type": "code",
   "execution_count": 8,
   "metadata": {},
   "outputs": [
    {
     "data": {
      "text/plain": [
       "┌────────┐\n",
       "│ Total  │\n",
       "│ int128 │\n",
       "├────────┤\n",
       "│  45596 │\n",
       "└────────┘"
      ]
     },
     "execution_count": 8,
     "metadata": {},
     "output_type": "execute_result"
    }
   ],
   "source": [
    "duckdb.sql(\"\"\"\n",
    "           SELECT SUM(PAYLOAD_MASS__KG_) AS Total\n",
    "           FROM df\n",
    "           WHERE Customer='NASA (CRS)'\n",
    "\"\"\")"
   ]
  },
  {
   "cell_type": "code",
   "execution_count": 9,
   "metadata": {},
   "outputs": [
    {
     "data": {
      "text/plain": [
       "┌────────┐\n",
       "│ Total  │\n",
       "│ int128 │\n",
       "├────────┤\n",
       "│  99980 │\n",
       "└────────┘"
      ]
     },
     "execution_count": 9,
     "metadata": {},
     "output_type": "execute_result"
    }
   ],
   "source": [
    "duckdb.sql(\"\"\"\n",
    "           SELECT SUM(PAYLOAD_MASS__KG_) AS Total\n",
    "           FROM df\n",
    "           WHERE Customer LIKE 'NASA%'\n",
    "\"\"\")"
   ]
  },
  {
   "cell_type": "markdown",
   "metadata": {},
   "source": [
    "#### Task 4\n",
    "Display average payload mass carried by booster version F9 v1.1"
   ]
  },
  {
   "cell_type": "code",
   "execution_count": 10,
   "metadata": {},
   "outputs": [
    {
     "data": {
      "text/plain": [
       "┌────────────────────┐\n",
       "│      Average       │\n",
       "│       double       │\n",
       "├────────────────────┤\n",
       "│ 2534.6666666666665 │\n",
       "└────────────────────┘"
      ]
     },
     "execution_count": 10,
     "metadata": {},
     "output_type": "execute_result"
    }
   ],
   "source": [
    "duckdb.sql(\"\"\"\n",
    "           SELECT AVG(PAYLOAD_MASS__KG_) AS Average\n",
    "           FROM df\n",
    "           WHERE Booster_Version LIKE 'F9 v1.1%'\n",
    "\"\"\")"
   ]
  },
  {
   "cell_type": "markdown",
   "metadata": {},
   "source": [
    "#### Task 5\n",
    "List the date when the first succesful landing outcome in ground pad was achieved"
   ]
  },
  {
   "cell_type": "code",
   "execution_count": 11,
   "metadata": {},
   "outputs": [
    {
     "data": {
      "text/plain": [
       "┌────────────┐\n",
       "│ min(Date)  │\n",
       "│  varchar   │\n",
       "├────────────┤\n",
       "│ 2015-12-22 │\n",
       "└────────────┘"
      ]
     },
     "execution_count": 11,
     "metadata": {},
     "output_type": "execute_result"
    }
   ],
   "source": [
    "duckdb.sql(\"\"\"\n",
    "           SELECT MIN(Date)\n",
    "           FROM df\n",
    "           WHERE \"Landing_Outcome\" = 'Success (ground pad)'\n",
    "\"\"\")"
   ]
  },
  {
   "cell_type": "markdown",
   "metadata": {},
   "source": [
    "#### Task 6\n",
    "List the names of the boosters which have success in drone ship and have payload mass greater than 4000 but less than 6000"
   ]
  },
  {
   "cell_type": "code",
   "execution_count": 12,
   "metadata": {},
   "outputs": [
    {
     "data": {
      "text/plain": [
       "┌─────────────────┐\n",
       "│ Booster_Version │\n",
       "│     varchar     │\n",
       "├─────────────────┤\n",
       "│ F9 FT B1022     │\n",
       "│ F9 FT B1026     │\n",
       "│ F9 FT  B1021.2  │\n",
       "│ F9 FT  B1031.2  │\n",
       "└─────────────────┘"
      ]
     },
     "execution_count": 12,
     "metadata": {},
     "output_type": "execute_result"
    }
   ],
   "source": [
    "duckdb.sql(\"\"\"\n",
    "           SELECT Booster_Version\n",
    "           FROM df\n",
    "           WHERE Landing_Outcome = 'Success (drone ship)'\n",
    "           AND PAYLOAD_MASS__KG_ BETWEEN 4000 AND 6000;\n",
    "\"\"\")"
   ]
  },
  {
   "cell_type": "markdown",
   "metadata": {},
   "source": [
    "#### Task 7\n",
    "List the total number of successful and failure mission outcomes"
   ]
  },
  {
   "cell_type": "code",
   "execution_count": 13,
   "metadata": {},
   "outputs": [
    {
     "data": {
      "text/plain": [
       "┌──────────────────────────────────┐\n",
       "│         Mission_Outcome          │\n",
       "│             varchar              │\n",
       "├──────────────────────────────────┤\n",
       "│ Failure (in flight)              │\n",
       "│ Success                          │\n",
       "│ Success                          │\n",
       "│ Success (payload status unclear) │\n",
       "└──────────────────────────────────┘"
      ]
     },
     "execution_count": 13,
     "metadata": {},
     "output_type": "execute_result"
    }
   ],
   "source": [
    "duckdb.sql(\"SELECT DISTINCT(Mission_Outcome) FROM df\")"
   ]
  },
  {
   "cell_type": "code",
   "execution_count": 14,
   "metadata": {},
   "outputs": [
    {
     "data": {
      "text/plain": [
       "┌──────────────┐\n",
       "│ count_star() │\n",
       "│    int64     │\n",
       "├──────────────┤\n",
       "│          100 │\n",
       "└──────────────┘"
      ]
     },
     "execution_count": 14,
     "metadata": {},
     "output_type": "execute_result"
    }
   ],
   "source": [
    "duckdb.sql(\"\"\"\n",
    "           SELECT COUNT(*)\n",
    "           FROM df\n",
    "           WHERE Mission_Outcome LIKE 'Success%'\n",
    "\"\"\")"
   ]
  },
  {
   "cell_type": "code",
   "execution_count": 15,
   "metadata": {},
   "outputs": [
    {
     "data": {
      "text/plain": [
       "┌──────────────┐\n",
       "│ count_star() │\n",
       "│    int64     │\n",
       "├──────────────┤\n",
       "│            1 │\n",
       "└──────────────┘"
      ]
     },
     "execution_count": 15,
     "metadata": {},
     "output_type": "execute_result"
    }
   ],
   "source": [
    "duckdb.sql(\"\"\"\n",
    "           SELECT COUNT(*)\n",
    "           FROM df\n",
    "           WHERE Mission_Outcome LIKE 'Failure%'\n",
    "\"\"\")"
   ]
  },
  {
   "cell_type": "markdown",
   "metadata": {},
   "source": [
    "#### TASK 8\n",
    "List the names of the booster versions which have carried the maximum payload mass. Use a subquery"
   ]
  },
  {
   "cell_type": "code",
   "execution_count": 16,
   "metadata": {},
   "outputs": [
    {
     "data": {
      "text/plain": [
       "┌─────────────────┐\n",
       "│ Booster_Version │\n",
       "│     varchar     │\n",
       "├─────────────────┤\n",
       "│ F9 B5 B1048.4   │\n",
       "│ F9 B5 B1049.4   │\n",
       "│ F9 B5 B1051.3   │\n",
       "│ F9 B5 B1056.4   │\n",
       "│ F9 B5 B1048.5   │\n",
       "│ F9 B5 B1051.4   │\n",
       "│ F9 B5 B1049.5   │\n",
       "│ F9 B5 B1060.2   │\n",
       "│ F9 B5 B1058.3   │\n",
       "│ F9 B5 B1051.6   │\n",
       "│ F9 B5 B1060.3   │\n",
       "│ F9 B5 B1049.7   │\n",
       "├─────────────────┤\n",
       "│     12 rows     │\n",
       "└─────────────────┘"
      ]
     },
     "execution_count": 16,
     "metadata": {},
     "output_type": "execute_result"
    }
   ],
   "source": [
    "duckdb.sql(\"\"\"\n",
    "           SELECT Booster_Version\n",
    "           FROM df\n",
    "           WHERE PAYLOAD_MASS__KG_ = \n",
    "                (SELECT MAX(PAYLOAD_MASS__KG_) FROM df)\n",
    "\"\"\")"
   ]
  },
  {
   "cell_type": "markdown",
   "metadata": {},
   "source": [
    "#### TASK 9\n",
    "List the records which will display the month names, failure landing_outcomes in drone ship ,booster versions, launch_site for the months in year 2015."
   ]
  },
  {
   "cell_type": "code",
   "execution_count": 17,
   "metadata": {},
   "outputs": [
    {
     "data": {
      "text/plain": [
       "┌─────────┬─────────────────┬─────────────┐\n",
       "│  Month  │ Booster_Version │ Launch_Site │\n",
       "│ varchar │     varchar     │   varchar   │\n",
       "├─────────┴─────────────────┴─────────────┤\n",
       "│                 0 rows                  │\n",
       "└─────────────────────────────────────────┘"
      ]
     },
     "execution_count": 17,
     "metadata": {},
     "output_type": "execute_result"
    }
   ],
   "source": [
    "duckdb.sql(\"\"\"\n",
    "           SELECT SUBSTR(Date,4,2) AS Month, Booster_Version, Launch_Site\n",
    "           FROM df\n",
    "           WHERE SUBSTR(Date,7,4) = '2015' AND \"Landing_Outcome\" = 'Failure (drone ship)'\n",
    "\"\"\")"
   ]
  },
  {
   "cell_type": "markdown",
   "metadata": {},
   "source": [
    "#### TASK 10\n",
    "Rank the count of successful landing_outcomes between the date 04-06-2010 and 20-03-2017 in descending order."
   ]
  },
  {
   "cell_type": "code",
   "execution_count": 18,
   "metadata": {},
   "outputs": [
    {
     "data": {
      "text/plain": [
       "┌─────────────────┬──────────┐\n",
       "│ Landing_Outcome │ Landings │\n",
       "│     varchar     │  int64   │\n",
       "├─────────────────┴──────────┤\n",
       "│           0 rows           │\n",
       "└────────────────────────────┘"
      ]
     },
     "execution_count": 18,
     "metadata": {},
     "output_type": "execute_result"
    }
   ],
   "source": [
    "duckdb.sql(\"\"\"\n",
    "           SELECT Landing_Outcome, COUNT(Landing_Outcome) AS Landings\n",
    "           FROM df\n",
    "           WHERE Date BETWEEN '04-06-2010' AND '20-03-2017'\n",
    "           GROUP BY Landing_Outcome\n",
    "           ORDER BY landings DESC\n",
    "\"\"\")"
   ]
  },
  {
   "cell_type": "code",
   "execution_count": null,
   "metadata": {},
   "outputs": [],
   "source": []
  }
 ],
 "metadata": {
  "kernelspec": {
   "display_name": "Python 3",
   "language": "python",
   "name": "python3"
  },
  "language_info": {
   "codemirror_mode": {
    "name": "ipython",
    "version": 3
   },
   "file_extension": ".py",
   "mimetype": "text/x-python",
   "name": "python",
   "nbconvert_exporter": "python",
   "pygments_lexer": "ipython3",
   "version": "3.12.3"
  }
 },
 "nbformat": 4,
 "nbformat_minor": 2
}
